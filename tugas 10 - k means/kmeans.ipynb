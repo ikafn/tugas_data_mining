{
  "nbformat": 4,
  "nbformat_minor": 0,
  "metadata": {
    "colab": {
      "provenance": []
    },
    "kernelspec": {
      "name": "python3",
      "display_name": "Python 3"
    },
    "language_info": {
      "name": "python"
    }
  },
  "cells": [
    {
      "cell_type": "markdown",
      "source": [
        "**Importing the libraries**"
      ],
      "metadata": {
        "id": "8ttAhV18X651"
      }
    },
    {
      "cell_type": "code",
      "execution_count": null,
      "metadata": {
        "id": "fUO_CurFzKrx"
      },
      "outputs": [],
      "source": [
        "import numpy as np\n",
        "import matplotlib.pyplot as plt\n",
        "import pandas as pd"
      ]
    },
    {
      "cell_type": "markdown",
      "source": [
        "**Importing the dataset**"
      ],
      "metadata": {
        "id": "VyT2dCaGYBVW"
      }
    },
    {
      "cell_type": "code",
      "source": [
        "from google.colab import drive\n",
        "drive.mount('/content/drive')"
      ],
      "metadata": {
        "colab": {
          "base_uri": "https://localhost:8080/"
        },
        "id": "wFR3PCjQ0HrJ",
        "outputId": "80acdc07-7a63-4cb1-b9dc-b9a8c38bcf06"
      },
      "execution_count": null,
      "outputs": [
        {
          "output_type": "stream",
          "name": "stdout",
          "text": [
            "Mounted at /content/drive\n"
          ]
        }
      ]
    },
    {
      "cell_type": "code",
      "source": [
        "path='/content/drive/MyDrive/DataSource/data_mortality_rate.xlsx'\n",
        "\n",
        "df = pd.read_excel(path)\n",
        "df.head()"
      ],
      "metadata": {
        "colab": {
          "base_uri": "https://localhost:8080/",
          "height": 305
        },
        "id": "pvA9PdVF0IqW",
        "outputId": "ba4cd7a3-fddc-4fd9-9cdb-cd7d3aa6a93c"
      },
      "execution_count": null,
      "outputs": [
        {
          "output_type": "execute_result",
          "data": {
            "text/plain": [
              "   Year of Date Month of Date  Day of Date  Count of Sheet1  \\\n",
              "0          1990      December           31               10   \n",
              "1          1991      December           31               10   \n",
              "2          1992      December           31               10   \n",
              "3          1993      December           31               10   \n",
              "4          1994      December           31               10   \n",
              "\n",
              "   Crude Birth Ratio  Crude Death Ratio  HIV Prevalence  \\\n",
              "0              295.2               76.5            1.82   \n",
              "1              289.1               75.5            2.69   \n",
              "2              282.9               74.6            3.23   \n",
              "3              276.3               73.9            3.75   \n",
              "4              268.6               71.5            4.09   \n",
              "\n",
              "   Immunization Measless  Infant Mortality Rate  Life expentancy rate  \\\n",
              "0                  698.0                  471.4                 674.8   \n",
              "1                  696.0                  458.2                 678.1   \n",
              "2                  720.0                  445.7                 681.2   \n",
              "3                  739.0                  433.5                 683.1   \n",
              "4                  812.0                  422.0                 687.9   \n",
              "\n",
              "   Malaria Prevalence  Maternal Mortality Rate  Nurse Density  Pharmaceutical  \\\n",
              "0                 0.0                   3281.0         849.62             0.0   \n",
              "1                 0.0                   3093.0         767.07            76.0   \n",
              "2                 0.0                   2908.0         519.69            24.0   \n",
              "3                 0.0                   2787.0         828.39            81.0   \n",
              "4                 0.0                   2631.0         555.81             0.0   \n",
              "\n",
              "   Physi density  TB Prevalence  Undernourish Population  \\\n",
              "0         849.62            0.0                    273.8   \n",
              "1         767.07            0.0                    273.8   \n",
              "2         519.69            0.0                    268.1   \n",
              "3         828.39            0.0                    264.0   \n",
              "4         555.81            0.0                    239.1   \n",
              "\n",
              "   Underweight Children  immunization DPT  \n",
              "0                 280.6             740.0  \n",
              "1                 243.2             734.0  \n",
              "2                 214.1             722.0  \n",
              "3                 225.6             737.0  \n",
              "4                 183.4             779.0  "
            ],
            "text/html": [
              "\n",
              "  <div id=\"df-cbdea2e6-f258-4b78-a7af-91a98db42b97\">\n",
              "    <div class=\"colab-df-container\">\n",
              "      <div>\n",
              "<style scoped>\n",
              "    .dataframe tbody tr th:only-of-type {\n",
              "        vertical-align: middle;\n",
              "    }\n",
              "\n",
              "    .dataframe tbody tr th {\n",
              "        vertical-align: top;\n",
              "    }\n",
              "\n",
              "    .dataframe thead th {\n",
              "        text-align: right;\n",
              "    }\n",
              "</style>\n",
              "<table border=\"1\" class=\"dataframe\">\n",
              "  <thead>\n",
              "    <tr style=\"text-align: right;\">\n",
              "      <th></th>\n",
              "      <th>Year of Date</th>\n",
              "      <th>Month of Date</th>\n",
              "      <th>Day of Date</th>\n",
              "      <th>Count of Sheet1</th>\n",
              "      <th>Crude Birth Ratio</th>\n",
              "      <th>Crude Death Ratio</th>\n",
              "      <th>HIV Prevalence</th>\n",
              "      <th>Immunization Measless</th>\n",
              "      <th>Infant Mortality Rate</th>\n",
              "      <th>Life expentancy rate</th>\n",
              "      <th>Malaria Prevalence</th>\n",
              "      <th>Maternal Mortality Rate</th>\n",
              "      <th>Nurse Density</th>\n",
              "      <th>Pharmaceutical</th>\n",
              "      <th>Physi density</th>\n",
              "      <th>TB Prevalence</th>\n",
              "      <th>Undernourish Population</th>\n",
              "      <th>Underweight Children</th>\n",
              "      <th>immunization DPT</th>\n",
              "    </tr>\n",
              "  </thead>\n",
              "  <tbody>\n",
              "    <tr>\n",
              "      <th>0</th>\n",
              "      <td>1990</td>\n",
              "      <td>December</td>\n",
              "      <td>31</td>\n",
              "      <td>10</td>\n",
              "      <td>295.2</td>\n",
              "      <td>76.5</td>\n",
              "      <td>1.82</td>\n",
              "      <td>698.0</td>\n",
              "      <td>471.4</td>\n",
              "      <td>674.8</td>\n",
              "      <td>0.0</td>\n",
              "      <td>3281.0</td>\n",
              "      <td>849.62</td>\n",
              "      <td>0.0</td>\n",
              "      <td>849.62</td>\n",
              "      <td>0.0</td>\n",
              "      <td>273.8</td>\n",
              "      <td>280.6</td>\n",
              "      <td>740.0</td>\n",
              "    </tr>\n",
              "    <tr>\n",
              "      <th>1</th>\n",
              "      <td>1991</td>\n",
              "      <td>December</td>\n",
              "      <td>31</td>\n",
              "      <td>10</td>\n",
              "      <td>289.1</td>\n",
              "      <td>75.5</td>\n",
              "      <td>2.69</td>\n",
              "      <td>696.0</td>\n",
              "      <td>458.2</td>\n",
              "      <td>678.1</td>\n",
              "      <td>0.0</td>\n",
              "      <td>3093.0</td>\n",
              "      <td>767.07</td>\n",
              "      <td>76.0</td>\n",
              "      <td>767.07</td>\n",
              "      <td>0.0</td>\n",
              "      <td>273.8</td>\n",
              "      <td>243.2</td>\n",
              "      <td>734.0</td>\n",
              "    </tr>\n",
              "    <tr>\n",
              "      <th>2</th>\n",
              "      <td>1992</td>\n",
              "      <td>December</td>\n",
              "      <td>31</td>\n",
              "      <td>10</td>\n",
              "      <td>282.9</td>\n",
              "      <td>74.6</td>\n",
              "      <td>3.23</td>\n",
              "      <td>720.0</td>\n",
              "      <td>445.7</td>\n",
              "      <td>681.2</td>\n",
              "      <td>0.0</td>\n",
              "      <td>2908.0</td>\n",
              "      <td>519.69</td>\n",
              "      <td>24.0</td>\n",
              "      <td>519.69</td>\n",
              "      <td>0.0</td>\n",
              "      <td>268.1</td>\n",
              "      <td>214.1</td>\n",
              "      <td>722.0</td>\n",
              "    </tr>\n",
              "    <tr>\n",
              "      <th>3</th>\n",
              "      <td>1993</td>\n",
              "      <td>December</td>\n",
              "      <td>31</td>\n",
              "      <td>10</td>\n",
              "      <td>276.3</td>\n",
              "      <td>73.9</td>\n",
              "      <td>3.75</td>\n",
              "      <td>739.0</td>\n",
              "      <td>433.5</td>\n",
              "      <td>683.1</td>\n",
              "      <td>0.0</td>\n",
              "      <td>2787.0</td>\n",
              "      <td>828.39</td>\n",
              "      <td>81.0</td>\n",
              "      <td>828.39</td>\n",
              "      <td>0.0</td>\n",
              "      <td>264.0</td>\n",
              "      <td>225.6</td>\n",
              "      <td>737.0</td>\n",
              "    </tr>\n",
              "    <tr>\n",
              "      <th>4</th>\n",
              "      <td>1994</td>\n",
              "      <td>December</td>\n",
              "      <td>31</td>\n",
              "      <td>10</td>\n",
              "      <td>268.6</td>\n",
              "      <td>71.5</td>\n",
              "      <td>4.09</td>\n",
              "      <td>812.0</td>\n",
              "      <td>422.0</td>\n",
              "      <td>687.9</td>\n",
              "      <td>0.0</td>\n",
              "      <td>2631.0</td>\n",
              "      <td>555.81</td>\n",
              "      <td>0.0</td>\n",
              "      <td>555.81</td>\n",
              "      <td>0.0</td>\n",
              "      <td>239.1</td>\n",
              "      <td>183.4</td>\n",
              "      <td>779.0</td>\n",
              "    </tr>\n",
              "  </tbody>\n",
              "</table>\n",
              "</div>\n",
              "      <button class=\"colab-df-convert\" onclick=\"convertToInteractive('df-cbdea2e6-f258-4b78-a7af-91a98db42b97')\"\n",
              "              title=\"Convert this dataframe to an interactive table.\"\n",
              "              style=\"display:none;\">\n",
              "        \n",
              "  <svg xmlns=\"http://www.w3.org/2000/svg\" height=\"24px\"viewBox=\"0 0 24 24\"\n",
              "       width=\"24px\">\n",
              "    <path d=\"M0 0h24v24H0V0z\" fill=\"none\"/>\n",
              "    <path d=\"M18.56 5.44l.94 2.06.94-2.06 2.06-.94-2.06-.94-.94-2.06-.94 2.06-2.06.94zm-11 1L8.5 8.5l.94-2.06 2.06-.94-2.06-.94L8.5 2.5l-.94 2.06-2.06.94zm10 10l.94 2.06.94-2.06 2.06-.94-2.06-.94-.94-2.06-.94 2.06-2.06.94z\"/><path d=\"M17.41 7.96l-1.37-1.37c-.4-.4-.92-.59-1.43-.59-.52 0-1.04.2-1.43.59L10.3 9.45l-7.72 7.72c-.78.78-.78 2.05 0 2.83L4 21.41c.39.39.9.59 1.41.59.51 0 1.02-.2 1.41-.59l7.78-7.78 2.81-2.81c.8-.78.8-2.07 0-2.86zM5.41 20L4 18.59l7.72-7.72 1.47 1.35L5.41 20z\"/>\n",
              "  </svg>\n",
              "      </button>\n",
              "      \n",
              "  <style>\n",
              "    .colab-df-container {\n",
              "      display:flex;\n",
              "      flex-wrap:wrap;\n",
              "      gap: 12px;\n",
              "    }\n",
              "\n",
              "    .colab-df-convert {\n",
              "      background-color: #E8F0FE;\n",
              "      border: none;\n",
              "      border-radius: 50%;\n",
              "      cursor: pointer;\n",
              "      display: none;\n",
              "      fill: #1967D2;\n",
              "      height: 32px;\n",
              "      padding: 0 0 0 0;\n",
              "      width: 32px;\n",
              "    }\n",
              "\n",
              "    .colab-df-convert:hover {\n",
              "      background-color: #E2EBFA;\n",
              "      box-shadow: 0px 1px 2px rgba(60, 64, 67, 0.3), 0px 1px 3px 1px rgba(60, 64, 67, 0.15);\n",
              "      fill: #174EA6;\n",
              "    }\n",
              "\n",
              "    [theme=dark] .colab-df-convert {\n",
              "      background-color: #3B4455;\n",
              "      fill: #D2E3FC;\n",
              "    }\n",
              "\n",
              "    [theme=dark] .colab-df-convert:hover {\n",
              "      background-color: #434B5C;\n",
              "      box-shadow: 0px 1px 3px 1px rgba(0, 0, 0, 0.15);\n",
              "      filter: drop-shadow(0px 1px 2px rgba(0, 0, 0, 0.3));\n",
              "      fill: #FFFFFF;\n",
              "    }\n",
              "  </style>\n",
              "\n",
              "      <script>\n",
              "        const buttonEl =\n",
              "          document.querySelector('#df-cbdea2e6-f258-4b78-a7af-91a98db42b97 button.colab-df-convert');\n",
              "        buttonEl.style.display =\n",
              "          google.colab.kernel.accessAllowed ? 'block' : 'none';\n",
              "\n",
              "        async function convertToInteractive(key) {\n",
              "          const element = document.querySelector('#df-cbdea2e6-f258-4b78-a7af-91a98db42b97');\n",
              "          const dataTable =\n",
              "            await google.colab.kernel.invokeFunction('convertToInteractive',\n",
              "                                                     [key], {});\n",
              "          if (!dataTable) return;\n",
              "\n",
              "          const docLinkHtml = 'Like what you see? Visit the ' +\n",
              "            '<a target=\"_blank\" href=https://colab.research.google.com/notebooks/data_table.ipynb>data table notebook</a>'\n",
              "            + ' to learn more about interactive tables.';\n",
              "          element.innerHTML = '';\n",
              "          dataTable['output_type'] = 'display_data';\n",
              "          await google.colab.output.renderOutput(dataTable, element);\n",
              "          const docLink = document.createElement('div');\n",
              "          docLink.innerHTML = docLinkHtml;\n",
              "          element.appendChild(docLink);\n",
              "        }\n",
              "      </script>\n",
              "    </div>\n",
              "  </div>\n",
              "  "
            ]
          },
          "metadata": {},
          "execution_count": 3
        }
      ]
    },
    {
      "cell_type": "code",
      "source": [
        "# Menentukan Input Variabel\n",
        "X = df[['Crude Birth Ratio', 'Crude Death Ratio',\t'HIV Prevalence',\t'Immunization Measless',\t'Infant Mortality Rate',\t'Life expentancy rate',\t'Malaria Prevalence',\t'Maternal Mortality Rate',\t'Nurse Density',\t'Pharmaceutical',\t'Physi density',\t'TB Prevalence',\t'Undernourish Population',\t'Underweight Children',\t'immunization DPT']]"
      ],
      "metadata": {
        "id": "--QdEe611SM2"
      },
      "execution_count": null,
      "outputs": []
    },
    {
      "cell_type": "markdown",
      "source": [
        "**Feature Scaling**"
      ],
      "metadata": {
        "id": "7n5aptCEYLUU"
      }
    },
    {
      "cell_type": "code",
      "source": [
        "from sklearn.preprocessing import StandardScaler\n",
        "scaler = StandardScaler()"
      ],
      "metadata": {
        "id": "DLEQYD_H9VU3"
      },
      "execution_count": null,
      "outputs": []
    },
    {
      "cell_type": "code",
      "source": [
        "scaled_x = scaler.fit_transform(X)\n",
        "x = scaled_x"
      ],
      "metadata": {
        "id": "zcUaKk209a72"
      },
      "execution_count": null,
      "outputs": []
    },
    {
      "cell_type": "markdown",
      "source": [
        "**Using the elbow method to find the optimal number of clusters**"
      ],
      "metadata": {
        "id": "ezixgjp_YGum"
      }
    },
    {
      "cell_type": "code",
      "source": [
        "from sklearn.cluster import KMeans\n",
        "\n",
        "range = range(1,10)\n",
        "wcss = []\n",
        "\n",
        "for num_cluster in range:\n",
        "    kmeans = KMeans(num_cluster, init = 'k-means++')\n",
        "    kmeans.fit(x)\n",
        "    wcss.append(kmeans.inertia_)\n",
        "plt.plot(range, wcss,  marker='o')\n",
        "plt.title('The Elbow Method')\n",
        "plt.xlabel('Number of clusters')\n",
        "plt.ylabel('WCSS')\n",
        "plt.show()"
      ],
      "metadata": {
        "colab": {
          "base_uri": "https://localhost:8080/",
          "height": 824
        },
        "id": "z6YQh6mk05js",
        "outputId": "52f4c95b-af6e-4c64-f9fe-0ff026efe3b0"
      },
      "execution_count": null,
      "outputs": [
        {
          "output_type": "stream",
          "name": "stderr",
          "text": [
            "/usr/local/lib/python3.10/dist-packages/sklearn/cluster/_kmeans.py:870: FutureWarning: The default value of `n_init` will change from 10 to 'auto' in 1.4. Set the value of `n_init` explicitly to suppress the warning\n",
            "  warnings.warn(\n",
            "/usr/local/lib/python3.10/dist-packages/sklearn/cluster/_kmeans.py:870: FutureWarning: The default value of `n_init` will change from 10 to 'auto' in 1.4. Set the value of `n_init` explicitly to suppress the warning\n",
            "  warnings.warn(\n",
            "/usr/local/lib/python3.10/dist-packages/sklearn/cluster/_kmeans.py:870: FutureWarning: The default value of `n_init` will change from 10 to 'auto' in 1.4. Set the value of `n_init` explicitly to suppress the warning\n",
            "  warnings.warn(\n",
            "/usr/local/lib/python3.10/dist-packages/sklearn/cluster/_kmeans.py:870: FutureWarning: The default value of `n_init` will change from 10 to 'auto' in 1.4. Set the value of `n_init` explicitly to suppress the warning\n",
            "  warnings.warn(\n",
            "/usr/local/lib/python3.10/dist-packages/sklearn/cluster/_kmeans.py:870: FutureWarning: The default value of `n_init` will change from 10 to 'auto' in 1.4. Set the value of `n_init` explicitly to suppress the warning\n",
            "  warnings.warn(\n",
            "/usr/local/lib/python3.10/dist-packages/sklearn/cluster/_kmeans.py:870: FutureWarning: The default value of `n_init` will change from 10 to 'auto' in 1.4. Set the value of `n_init` explicitly to suppress the warning\n",
            "  warnings.warn(\n",
            "/usr/local/lib/python3.10/dist-packages/sklearn/cluster/_kmeans.py:870: FutureWarning: The default value of `n_init` will change from 10 to 'auto' in 1.4. Set the value of `n_init` explicitly to suppress the warning\n",
            "  warnings.warn(\n",
            "/usr/local/lib/python3.10/dist-packages/sklearn/cluster/_kmeans.py:870: FutureWarning: The default value of `n_init` will change from 10 to 'auto' in 1.4. Set the value of `n_init` explicitly to suppress the warning\n",
            "  warnings.warn(\n",
            "/usr/local/lib/python3.10/dist-packages/sklearn/cluster/_kmeans.py:870: FutureWarning: The default value of `n_init` will change from 10 to 'auto' in 1.4. Set the value of `n_init` explicitly to suppress the warning\n",
            "  warnings.warn(\n"
          ]
        },
        {
          "output_type": "display_data",
          "data": {
            "text/plain": [
              "<Figure size 640x480 with 1 Axes>"
            ],
            "image/png": "[encoded data removed]"
          },
          "metadata": {}
        }
      ]
    },
    {
      "cell_type": "markdown",
      "source": [
        "**Training the K-Means model on the dataset**"
      ],
      "metadata": {
        "id": "Kq7URO8WYN7g"
      }
    },
    {
      "cell_type": "code",
      "source": [
        "kmeans = KMeans(n_clusters = 5, init = 'k-means++', random_state = 15)\n",
        "y_kmeans = kmeans.fit_predict(x)"
      ],
      "metadata": {
        "colab": {
          "base_uri": "https://localhost:8080/"
        },
        "id": "WaNyFNcY1DKX",
        "outputId": "46a0d15f-69b0-4a37-d3d2-2fc53bb4f100"
      },
      "execution_count": null,
      "outputs": [
        {
          "output_type": "stream",
          "name": "stderr",
          "text": [
            "/usr/local/lib/python3.10/dist-packages/sklearn/cluster/_kmeans.py:870: FutureWarning: The default value of `n_init` will change from 10 to 'auto' in 1.4. Set the value of `n_init` explicitly to suppress the warning\n",
            "  warnings.warn(\n"
          ]
        }
      ]
    },
    {
      "cell_type": "code",
      "source": [
        "df['cluster'] = y_kmeans\n",
        "df.head()"
      ],
      "metadata": {
        "colab": {
          "base_uri": "https://localhost:8080/",
          "height": 305
        },
        "id": "-z7eLrix1q0u",
        "outputId": "30c01f6b-6237-4f42-94f7-f6f8da5d69fe"
      },
      "execution_count": null,
      "outputs": [
        {
          "output_type": "execute_result",
          "data": {
            "text/plain": [
              "   Year of Date Month of Date  Day of Date  Count of Sheet1  \\\n",
              "0          1990      December           31               10   \n",
              "1          1991      December           31               10   \n",
              "2          1992      December           31               10   \n",
              "3          1993      December           31               10   \n",
              "4          1994      December           31               10   \n",
              "\n",
              "   Crude Birth Ratio  Crude Death Ratio  HIV Prevalence  \\\n",
              "0              295.2               76.5            1.82   \n",
              "1              289.1               75.5            2.69   \n",
              "2              282.9               74.6            3.23   \n",
              "3              276.3               73.9            3.75   \n",
              "4              268.6               71.5            4.09   \n",
              "\n",
              "   Immunization Measless  Infant Mortality Rate  Life expentancy rate  \\\n",
              "0                  698.0                  471.4                 674.8   \n",
              "1                  696.0                  458.2                 678.1   \n",
              "2                  720.0                  445.7                 681.2   \n",
              "3                  739.0                  433.5                 683.1   \n",
              "4                  812.0                  422.0                 687.9   \n",
              "\n",
              "   Malaria Prevalence  Maternal Mortality Rate  Nurse Density  Pharmaceutical  \\\n",
              "0                 0.0                   3281.0         849.62             0.0   \n",
              "1                 0.0                   3093.0         767.07            76.0   \n",
              "2                 0.0                   2908.0         519.69            24.0   \n",
              "3                 0.0                   2787.0         828.39            81.0   \n",
              "4                 0.0                   2631.0         555.81             0.0   \n",
              "\n",
              "   Physi density  TB Prevalence  Undernourish Population  \\\n",
              "0         849.62            0.0                    273.8   \n",
              "1         767.07            0.0                    273.8   \n",
              "2         519.69            0.0                    268.1   \n",
              "3         828.39            0.0                    264.0   \n",
              "4         555.81            0.0                    239.1   \n",
              "\n",
              "   Underweight Children  immunization DPT  cluster  \n",
              "0                 280.6             740.0        2  \n",
              "1                 243.2             734.0        2  \n",
              "2                 214.1             722.0        2  \n",
              "3                 225.6             737.0        2  \n",
              "4                 183.4             779.0        2  "
            ],
            "text/html": [
              "\n",
              "  <div id=\"df-d268e918-9e2b-4379-81b4-551fb689afe1\">\n",
              "    <div class=\"colab-df-container\">\n",
              "      <div>\n",
              "<style scoped>\n",
              "    .dataframe tbody tr th:only-of-type {\n",
              "        vertical-align: middle;\n",
              "    }\n",
              "\n",
              "    .dataframe tbody tr th {\n",
              "        vertical-align: top;\n",
              "    }\n",
              "\n",
              "    .dataframe thead th {\n",
              "        text-align: right;\n",
              "    }\n",
              "</style>\n",
              "<table border=\"1\" class=\"dataframe\">\n",
              "  <thead>\n",
              "    <tr style=\"text-align: right;\">\n",
              "      <th></th>\n",
              "      <th>Year of Date</th>\n",
              "      <th>Month of Date</th>\n",
              "      <th>Day of Date</th>\n",
              "      <th>Count of Sheet1</th>\n",
              "      <th>Crude Birth Ratio</th>\n",
              "      <th>Crude Death Ratio</th>\n",
              "      <th>HIV Prevalence</th>\n",
              "      <th>Immunization Measless</th>\n",
              "      <th>Infant Mortality Rate</th>\n",
              "      <th>Life expentancy rate</th>\n",
              "      <th>Malaria Prevalence</th>\n",
              "      <th>Maternal Mortality Rate</th>\n",
              "      <th>Nurse Density</th>\n",
              "      <th>Pharmaceutical</th>\n",
              "      <th>Physi density</th>\n",
              "      <th>TB Prevalence</th>\n",
              "      <th>Undernourish Population</th>\n",
              "      <th>Underweight Children</th>\n",
              "      <th>immunization DPT</th>\n",
              "      <th>cluster</th>\n",
              "    </tr>\n",
              "  </thead>\n",
              "  <tbody>\n",
              "    <tr>\n",
              "      <th>0</th>\n",
              "      <td>1990</td>\n",
              "      <td>December</td>\n",
              "      <td>31</td>\n",
              "      <td>10</td>\n",
              "      <td>295.2</td>\n",
              "      <td>76.5</td>\n",
              "      <td>1.82</td>\n",
              "      <td>698.0</td>\n",
              "      <td>471.4</td>\n",
              "      <td>674.8</td>\n",
              "      <td>0.0</td>\n",
              "      <td>3281.0</td>\n",
              "      <td>849.62</td>\n",
              "      <td>0.0</td>\n",
              "      <td>849.62</td>\n",
              "      <td>0.0</td>\n",
              "      <td>273.8</td>\n",
              "      <td>280.6</td>\n",
              "      <td>740.0</td>\n",
              "      <td>2</td>\n",
              "    </tr>\n",
              "    <tr>\n",
              "      <th>1</th>\n",
              "      <td>1991</td>\n",
              "      <td>December</td>\n",
              "      <td>31</td>\n",
              "      <td>10</td>\n",
              "      <td>289.1</td>\n",
              "      <td>75.5</td>\n",
              "      <td>2.69</td>\n",
              "      <td>696.0</td>\n",
              "      <td>458.2</td>\n",
              "      <td>678.1</td>\n",
              "      <td>0.0</td>\n",
              "      <td>3093.0</td>\n",
              "      <td>767.07</td>\n",
              "      <td>76.0</td>\n",
              "      <td>767.07</td>\n",
              "      <td>0.0</td>\n",
              "      <td>273.8</td>\n",
              "      <td>243.2</td>\n",
              "      <td>734.0</td>\n",
              "      <td>2</td>\n",
              "    </tr>\n",
              "    <tr>\n",
              "      <th>2</th>\n",
              "      <td>1992</td>\n",
              "      <td>December</td>\n",
              "      <td>31</td>\n",
              "      <td>10</td>\n",
              "      <td>282.9</td>\n",
              "      <td>74.6</td>\n",
              "      <td>3.23</td>\n",
              "      <td>720.0</td>\n",
              "      <td>445.7</td>\n",
              "      <td>681.2</td>\n",
              "      <td>0.0</td>\n",
              "      <td>2908.0</td>\n",
              "      <td>519.69</td>\n",
              "      <td>24.0</td>\n",
              "      <td>519.69</td>\n",
              "      <td>0.0</td>\n",
              "      <td>268.1</td>\n",
              "      <td>214.1</td>\n",
              "      <td>722.0</td>\n",
              "      <td>2</td>\n",
              "    </tr>\n",
              "    <tr>\n",
              "      <th>3</th>\n",
              "      <td>1993</td>\n",
              "      <td>December</td>\n",
              "      <td>31</td>\n",
              "      <td>10</td>\n",
              "      <td>276.3</td>\n",
              "      <td>73.9</td>\n",
              "      <td>3.75</td>\n",
              "      <td>739.0</td>\n",
              "      <td>433.5</td>\n",
              "      <td>683.1</td>\n",
              "      <td>0.0</td>\n",
              "      <td>2787.0</td>\n",
              "      <td>828.39</td>\n",
              "      <td>81.0</td>\n",
              "      <td>828.39</td>\n",
              "      <td>0.0</td>\n",
              "      <td>264.0</td>\n",
              "      <td>225.6</td>\n",
              "      <td>737.0</td>\n",
              "      <td>2</td>\n",
              "    </tr>\n",
              "    <tr>\n",
              "      <th>4</th>\n",
              "      <td>1994</td>\n",
              "      <td>December</td>\n",
              "      <td>31</td>\n",
              "      <td>10</td>\n",
              "      <td>268.6</td>\n",
              "      <td>71.5</td>\n",
              "      <td>4.09</td>\n",
              "      <td>812.0</td>\n",
              "      <td>422.0</td>\n",
              "      <td>687.9</td>\n",
              "      <td>0.0</td>\n",
              "      <td>2631.0</td>\n",
              "      <td>555.81</td>\n",
              "      <td>0.0</td>\n",
              "      <td>555.81</td>\n",
              "      <td>0.0</td>\n",
              "      <td>239.1</td>\n",
              "      <td>183.4</td>\n",
              "      <td>779.0</td>\n",
              "      <td>2</td>\n",
              "    </tr>\n",
              "  </tbody>\n",
              "</table>\n",
              "</div>\n",
              "      <button class=\"colab-df-convert\" onclick=\"convertToInteractive('df-d268e918-9e2b-4379-81b4-551fb689afe1')\"\n",
              "              title=\"Convert this dataframe to an interactive table.\"\n",
              "              style=\"display:none;\">\n",
              "        \n",
              "  <svg xmlns=\"http://www.w3.org/2000/svg\" height=\"24px\"viewBox=\"0 0 24 24\"\n",
              "       width=\"24px\">\n",
              "    <path d=\"M0 0h24v24H0V0z\" fill=\"none\"/>\n",
              "    <path d=\"M18.56 5.44l.94 2.06.94-2.06 2.06-.94-2.06-.94-.94-2.06-.94 2.06-2.06.94zm-11 1L8.5 8.5l.94-2.06 2.06-.94-2.06-.94L8.5 2.5l-.94 2.06-2.06.94zm10 10l.94 2.06.94-2.06 2.06-.94-2.06-.94-.94-2.06-.94 2.06-2.06.94z\"/><path d=\"M17.41 7.96l-1.37-1.37c-.4-.4-.92-.59-1.43-.59-.52 0-1.04.2-1.43.59L10.3 9.45l-7.72 7.72c-.78.78-.78 2.05 0 2.83L4 21.41c.39.39.9.59 1.41.59.51 0 1.02-.2 1.41-.59l7.78-7.78 2.81-2.81c.8-.78.8-2.07 0-2.86zM5.41 20L4 18.59l7.72-7.72 1.47 1.35L5.41 20z\"/>\n",
              "  </svg>\n",
              "      </button>\n",
              "      \n",
              "  <style>\n",
              "    .colab-df-container {\n",
              "      display:flex;\n",
              "      flex-wrap:wrap;\n",
              "      gap: 12px;\n",
              "    }\n",
              "\n",
              "    .colab-df-convert {\n",
              "      background-color: #E8F0FE;\n",
              "      border: none;\n",
              "      border-radius: 50%;\n",
              "      cursor: pointer;\n",
              "      display: none;\n",
              "      fill: #1967D2;\n",
              "      height: 32px;\n",
              "      padding: 0 0 0 0;\n",
              "      width: 32px;\n",
              "    }\n",
              "\n",
              "    .colab-df-convert:hover {\n",
              "      background-color: #E2EBFA;\n",
              "      box-shadow: 0px 1px 2px rgba(60, 64, 67, 0.3), 0px 1px 3px 1px rgba(60, 64, 67, 0.15);\n",
              "      fill: #174EA6;\n",
              "    }\n",
              "\n",
              "    [theme=dark] .colab-df-convert {\n",
              "      background-color: #3B4455;\n",
              "      fill: #D2E3FC;\n",
              "    }\n",
              "\n",
              "    [theme=dark] .colab-df-convert:hover {\n",
              "      background-color: #434B5C;\n",
              "      box-shadow: 0px 1px 3px 1px rgba(0, 0, 0, 0.15);\n",
              "      filter: drop-shadow(0px 1px 2px rgba(0, 0, 0, 0.3));\n",
              "      fill: #FFFFFF;\n",
              "    }\n",
              "  </style>\n",
              "\n",
              "      <script>\n",
              "        const buttonEl =\n",
              "          document.querySelector('#df-d268e918-9e2b-4379-81b4-551fb689afe1 button.colab-df-convert');\n",
              "        buttonEl.style.display =\n",
              "          google.colab.kernel.accessAllowed ? 'block' : 'none';\n",
              "\n",
              "        async function convertToInteractive(key) {\n",
              "          const element = document.querySelector('#df-d268e918-9e2b-4379-81b4-551fb689afe1');\n",
              "          const dataTable =\n",
              "            await google.colab.kernel.invokeFunction('convertToInteractive',\n",
              "                                                     [key], {});\n",
              "          if (!dataTable) return;\n",
              "\n",
              "          const docLinkHtml = 'Like what you see? Visit the ' +\n",
              "            '<a target=\"_blank\" href=https://colab.research.google.com/notebooks/data_table.ipynb>data table notebook</a>'\n",
              "            + ' to learn more about interactive tables.';\n",
              "          element.innerHTML = '';\n",
              "          dataTable['output_type'] = 'display_data';\n",
              "          await google.colab.output.renderOutput(dataTable, element);\n",
              "          const docLink = document.createElement('div');\n",
              "          docLink.innerHTML = docLinkHtml;\n",
              "          element.appendChild(docLink);\n",
              "        }\n",
              "      </script>\n",
              "    </div>\n",
              "  </div>\n",
              "  "
            ]
          },
          "metadata": {},
          "execution_count": 54
        }
      ]
    },
    {
      "cell_type": "markdown",
      "source": [
        "**Visualising the clusters**"
      ],
      "metadata": {
        "id": "mZzFLWqIYRD-"
      }
    },
    {
      "cell_type": "code",
      "source": [
        "plt.scatter(x[y_kmeans == 0, 0], x[y_kmeans == 0, 1], s = 100, c = 'red', label = 'Cluster 1')\n",
        "plt.scatter(x[y_kmeans == 1, 0], x[y_kmeans == 1, 1], s = 100, c = 'blue', label = 'Cluster 2')\n",
        "plt.scatter(x[y_kmeans == 2, 0], x[y_kmeans == 2, 1], s = 100, c = 'green', label = 'Cluster 3')\n",
        "plt.scatter(x[y_kmeans == 3, 0], x[y_kmeans == 3, 1], s = 100, c = 'cyan', label = 'Cluster 4')\n",
        "plt.scatter(x[y_kmeans == 4, 0], x[y_kmeans == 4, 1], s = 100, c = 'magenta', label = 'Cluster 5')\n",
        "plt.scatter(kmeans.cluster_centers_[:, 0], kmeans.cluster_centers_[:, 1], s = 200, c = 'yellow', label = 'Centroids')\n",
        "plt.title('Clusters of Mortality Rate')\n",
        "plt.xlabel('Annual Income (k$)')\n",
        "plt.ylabel('Spending Score (1-100)')\n",
        "plt.legend()\n",
        "plt.show()"
      ],
      "metadata": {
        "colab": {
          "base_uri": "https://localhost:8080/",
          "height": 472
        },
        "id": "Ekm-qAN_10WU",
        "outputId": "3fa9cae2-4792-43b4-8dcc-04ddb618ef64"
      },
      "execution_count": null,
      "outputs": [
        {
          "output_type": "display_data",
          "data": {
            "text/plain": [
              "<Figure size 640x480 with 1 Axes>"
            ],
            "image/png": "[encoded data removed]"
          },
          "metadata": {}
        }
      ]
    },
    {
      "cell_type": "code",
      "source": [
        "# Evaluation\n",
        "# labels = kmeans.labels_\n",
        "from sklearn.metrics import davies_bouldin_score\n",
        "w = davies_bouldin_score(x, y_kmeans)\n",
        "print(\"Score davies bouldin \")\n",
        "print(w)"
      ],
      "metadata": {
        "id": "XyO_enlu-MyU",
        "colab": {
          "base_uri": "https://localhost:8080/"
        },
        "outputId": "4896f320-dc51-40f0-f803-e7e2ada9dde9"
      },
      "execution_count": null,
      "outputs": [
        {
          "output_type": "stream",
          "name": "stdout",
          "text": [
            "Score davies bouldin \n",
            "1.0183852791740733\n"
          ]
        }
      ]
    }
  ]
}